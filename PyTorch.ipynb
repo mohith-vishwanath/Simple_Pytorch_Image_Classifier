{
  "nbformat": 4,
  "nbformat_minor": 0,
  "metadata": {
    "colab": {
      "name": "PyTorch.ipynb",
      "provenance": [],
      "collapsed_sections": [],
      "toc_visible": true,
      "authorship_tag": "ABX9TyO+Ij5oTcO32ZGEjs5jyVxC",
      "include_colab_link": true
    },
    "kernelspec": {
      "name": "python3",
      "display_name": "Python 3"
    },
    "language_info": {
      "name": "python"
    },
    "accelerator": "GPU"
  },
  "cells": [
    {
      "cell_type": "markdown",
      "metadata": {
        "id": "view-in-github",
        "colab_type": "text"
      },
      "source": [
        "<a href=\"https://colab.research.google.com/github/mohith-vishwanath/Simple_Pytorch_Image_Classifier/blob/main/PyTorch.ipynb\" target=\"_parent\"><img src=\"https://colab.research.google.com/assets/colab-badge.svg\" alt=\"Open In Colab\"/></a>"
      ]
    },
    {
      "cell_type": "markdown",
      "metadata": {
        "id": "Em8f5t8jxZ9b"
      },
      "source": [
        "### **Necessary Imports**"
      ]
    },
    {
      "cell_type": "code",
      "metadata": {
        "id": "_Vb6cM0LI2tV"
      },
      "source": [
        "import torch\n",
        "import torch.nn as nn\n",
        "import torch.optim as optim\n",
        "import torch.nn.functional as F\n",
        "import torchvision\n",
        "import torchvision.transforms as transforms\n",
        "\n",
        "from torch.utils.data import DataLoader\n",
        "from torch.utils.tensorboard import SummaryWriter\n",
        "from IPython.display import display, clear_output\n",
        "import pandas as pd\n",
        "import time\n",
        "import json\n",
        "\n",
        "from itertools import product\n",
        "from collections import namedtuple\n",
        "from collections import OrderedDict\n",
        "\n",
        "import numpy as np\n",
        "import matplotlib.pyplot as plt\n",
        "\n",
        "import time\n",
        "from pprint import pprint\n",
        "\n",
        "torch.set_printoptions(linewidth=120)\n",
        "# torch.set_grad_enabled(False)"
      ],
      "execution_count": 1,
      "outputs": []
    },
    {
      "cell_type": "code",
      "metadata": {
        "colab": {
          "base_uri": "https://localhost:8080/"
        },
        "id": "hMTretjQllhR",
        "outputId": "f1b2e850-fc5c-4f63-d07a-940df9e6cbf6"
      },
      "source": [
        "print(torch.__version__)\n",
        "print(torchvision.__version__)"
      ],
      "execution_count": 2,
      "outputs": [
        {
          "output_type": "stream",
          "text": [
            "1.8.1+cu101\n",
            "0.9.1+cu101\n"
          ],
          "name": "stdout"
        }
      ]
    },
    {
      "cell_type": "code",
      "metadata": {
        "colab": {
          "base_uri": "https://localhost:8080/"
        },
        "id": "scu_C8gG0Uj9",
        "outputId": "5de560d2-db8b-4421-93be-e3465d992891"
      },
      "source": [
        "#Check if GPU is available\n",
        "device = \"\"\n",
        "if torch.cuda.is_available():\n",
        "    device = \"cuda:0\"\n",
        "    print(\"GPU available\")\n",
        "else:\n",
        "    device = \"cpu\"\n",
        "    print(\"Only CPU available\")"
      ],
      "execution_count": 3,
      "outputs": [
        {
          "output_type": "stream",
          "text": [
            "GPU available\n"
          ],
          "name": "stdout"
        }
      ]
    },
    {
      "cell_type": "markdown",
      "metadata": {
        "id": "T4j4vlaaxmOD"
      },
      "source": [
        "### **Download FashionMNIST dataset**"
      ]
    },
    {
      "cell_type": "code",
      "metadata": {
        "id": "81-Hbx5rJAfP"
      },
      "source": [
        "#Training set\n",
        "train_set = torchvision.datasets.FashionMNIST(\n",
        "    root = \"\",\n",
        "    train=True,\n",
        "    download=True,\n",
        "    transform=transforms.Compose([\n",
        "        transforms.ToTensor()\n",
        "    ])\n",
        ")"
      ],
      "execution_count": 4,
      "outputs": []
    },
    {
      "cell_type": "code",
      "metadata": {
        "id": "3De9mJBm4Ogy"
      },
      "source": [
        "#Testing set\n",
        "test_set = torchvision.datasets.FashionMNIST(\n",
        "    root = \"\",\n",
        "    train=False,\n",
        "    download=True,\n",
        "    transform=transforms.Compose([\n",
        "        transforms.ToTensor()\n",
        "    ])\n",
        ")"
      ],
      "execution_count": 5,
      "outputs": []
    },
    {
      "cell_type": "code",
      "metadata": {
        "colab": {
          "base_uri": "https://localhost:8080/"
        },
        "id": "u5DPwDzGJgKh",
        "outputId": "77e2c2b1-0db6-432c-e77e-2964a44b3fe9"
      },
      "source": [
        "#Number of data points for each class\n",
        "train_set.targets.bincount()"
      ],
      "execution_count": 6,
      "outputs": [
        {
          "output_type": "execute_result",
          "data": {
            "text/plain": [
              "tensor([6000, 6000, 6000, 6000, 6000, 6000, 6000, 6000, 6000, 6000])"
            ]
          },
          "metadata": {
            "tags": []
          },
          "execution_count": 6
        }
      ]
    },
    {
      "cell_type": "code",
      "metadata": {
        "colab": {
          "base_uri": "https://localhost:8080/"
        },
        "id": "ocdbmIUh4sfg",
        "outputId": "42527e88-e616-4e80-dc32-9664c3ab88df"
      },
      "source": [
        "#Number of data points for each class\n",
        "test_set.targets.bincount()"
      ],
      "execution_count": 7,
      "outputs": [
        {
          "output_type": "execute_result",
          "data": {
            "text/plain": [
              "tensor([1000, 1000, 1000, 1000, 1000, 1000, 1000, 1000, 1000, 1000])"
            ]
          },
          "metadata": {
            "tags": []
          },
          "execution_count": 7
        }
      ]
    },
    {
      "cell_type": "markdown",
      "metadata": {
        "id": "2u4bSihvxxlG"
      },
      "source": [
        "### **Analysing Dataset**"
      ]
    },
    {
      "cell_type": "code",
      "metadata": {
        "id": "b6Ax97n7Jo8u",
        "colab": {
          "base_uri": "https://localhost:8080/",
          "height": 282
        },
        "outputId": "e6fbb225-3928-45db-fe5e-90290a3601a5"
      },
      "source": [
        "sample_iter = iter(train_set)\n",
        "sample = next(sample_iter)\n",
        "image, target = sample\n",
        "\n",
        "plt.imshow(image.squeeze(),cmap=\"gray\")\n",
        "print(\"Label : \" + str(target))"
      ],
      "execution_count": 8,
      "outputs": [
        {
          "output_type": "stream",
          "text": [
            "Label : 9\n"
          ],
          "name": "stdout"
        },
        {
          "output_type": "display_data",
          "data": {
            "image/png": "[encoded data removed]",
            "text/plain": [
              "<Figure size 432x288 with 1 Axes>"
            ]
          },
          "metadata": {
            "tags": [],
            "needs_background": "light"
          }
        }
      ]
    },
    {
      "cell_type": "markdown",
      "metadata": {
        "id": "zYseii_E1Ncn"
      },
      "source": [
        "### **Helper Functions**"
      ]
    },
    {
      "cell_type": "code",
      "metadata": {
        "id": "Rz0lby0J1UI-"
      },
      "source": [
        "#This class returns all the combinations of hyperparameters with which the model needs to be trained\n",
        "\n",
        "class RunBuilder:\n",
        "    @staticmethod\n",
        "    def get_runs(params):\n",
        "        Runs = namedtuple(\"Run\",params.keys())\n",
        "        runs = []\n",
        "        for v in product(*params.values()):\n",
        "            runs.append(Runs(*v))\n",
        "        return runs"
      ],
      "execution_count": 9,
      "outputs": []
    },
    {
      "cell_type": "code",
      "metadata": {
        "id": "q6R28r-k1SN8"
      },
      "source": [
        "class RunManager:\n",
        "    def __init__(self):\n",
        "        self.epoch_count = 0\n",
        "        self.epoch_loss = 0\n",
        "        self.epoch_num_correct = 0\n",
        "        self.epoch_start_time = None\n",
        "\n",
        "        self.run_params = None\n",
        "        self.run_count = 0\n",
        "        self.run_data = []\n",
        "        self.run_start_time = None\n",
        "\n",
        "        self.network = None\n",
        "        self.loader = None\n",
        "        self.dataframe = None\n",
        "\n",
        "    def begin_run(self, run, network, loader):\n",
        "        self.run_start_time = time.time()\n",
        "\n",
        "        self.run_params = run\n",
        "        self.run_count += 1\n",
        "\n",
        "        self.network = network\n",
        "        self.loader = loader\n",
        "\n",
        "        images, labels = next(iter(self.loader))\n",
        "    \n",
        "    def end_run(self):\n",
        "        self.epoch_count = 0\n",
        "    \n",
        "    def begin_epoch(self):\n",
        "        self.epoch_start_time = time.time()\n",
        "\n",
        "        self.epoch_count += 1\n",
        "        self.epoch_loss = 0\n",
        "        self.epoch_num_correct = 0\n",
        "    \n",
        "    def end_epoch(self):\n",
        "        epoch_duration = time.time() - self.epoch_start_time\n",
        "        run_duration = time.time() - self.run_start_time\n",
        "\n",
        "        loss = self.epoch_loss / len(self.loader.dataset)\n",
        "        accuracy = self.epoch_num_correct / len(self.loader.dataset)\n",
        "\n",
        "        results = OrderedDict()\n",
        "        results[\"run\"] = self.run_count\n",
        "        results[\"epoch\"] = self.epoch_count\n",
        "        results['loss'] = loss\n",
        "        results[\"accuracy\"] = accuracy\n",
        "        results['epoch duration'] = epoch_duration\n",
        "        results['run duration'] = run_duration\n",
        "        for k,v in self.run_params._asdict().items(): results[k] = v\n",
        "        self.run_data.append(results)\n",
        "    \n",
        "    def track_loss(self, loss, batch):\n",
        "        self.epoch_loss += loss.item() * batch[0].shape[0]\n",
        "\n",
        "    def track_num_correct(self, preds, labels):\n",
        "        self.epoch_num_correct += self._get_num_correct(preds, labels)\n",
        "    \n",
        "    def _get_num_correct(self, preds, labels):\n",
        "        return preds.argmax(dim=1).eq(labels).sum().item()\n",
        "    \n",
        "    def save(self, fileName):\n",
        "        self.dataframe = pd.DataFrame.from_dict(\n",
        "            self.run_data, orient='columns'\n",
        "        )\n",
        "        self.dataframe.to_csv(f'{fileName}.csv')\n",
        "\n",
        "        with open(f'{fileName}.json', 'w', encoding='utf-8') as f:\n",
        "            json.dump(self.run_data, f, ensure_ascii=False, indent=4)"
      ],
      "execution_count": 22,
      "outputs": []
    },
    {
      "cell_type": "markdown",
      "metadata": {
        "id": "PmAFiXEK3kf_"
      },
      "source": [
        "### **The Neural Network**\n"
      ]
    },
    {
      "cell_type": "code",
      "metadata": {
        "id": "P4idCyYxvob-"
      },
      "source": [
        "class Network(nn.Module):\n",
        "    def __init__(self):\n",
        "        super().__init__()\n",
        "        self.conv1 = nn.Conv2d(in_channels=1,out_channels=6,kernel_size=5)\n",
        "        self.conv2 = nn.Conv2d(in_channels=6,out_channels=12,kernel_size=5)\n",
        "\n",
        "        self.fc1 = nn.Linear(in_features=192,out_features=120)\n",
        "        self.fc2 = nn.Linear(in_features=120,out_features=60)\n",
        "        self.out = nn.Linear(in_features=60,out_features=10)\n",
        "    \n",
        "\n",
        "    def forward(self,t):\n",
        "        #Layer1\n",
        "        t = t\n",
        "\n",
        "        #Layer2\n",
        "        t = self.conv1(t)\n",
        "        t = F.relu(t)\n",
        "        t = F.max_pool2d(t,kernel_size=2,stride=2)\n",
        "\n",
        "        #Layer3\n",
        "        t = self.conv2(t)\n",
        "        t = F.relu(t)\n",
        "        t = F.max_pool2d(t,kernel_size=2,stride=2)\n",
        "\n",
        "        #Layer4\n",
        "        t = t.reshape(-1,12*4*4)\n",
        "        t = self.fc1(t)\n",
        "        t = F.relu(t)\n",
        "\n",
        "        #Layer5\n",
        "        t = self.fc2(t)\n",
        "        t = F.relu(t)\n",
        "\n",
        "        #Layer6\n",
        "        t = self.out(t)\n",
        "        # t = F.softmax(t)\n",
        "\n",
        "        return t"
      ],
      "execution_count": 11,
      "outputs": []
    },
    {
      "cell_type": "code",
      "metadata": {
        "id": "u_fhoYKS7cq6"
      },
      "source": [
        "params = OrderedDict(\n",
        "    lr = [.01,0.001,0.005]\n",
        "    ,batch_size = [100,500,1000]\n",
        "    ,shuffle=[True]\n",
        ")"
      ],
      "execution_count": 31,
      "outputs": []
    },
    {
      "cell_type": "code",
      "metadata": {
        "colab": {
          "base_uri": "https://localhost:8080/"
        },
        "id": "ufVuODm4J-J7",
        "outputId": "4f001362-7b72-408e-a2e1-3666bb27c998"
      },
      "source": [
        "num_of_epochs = 20\n",
        "hyper_sets = RunBuilder.get_runs(params)\n",
        "\n",
        "print(\"Number of epochs per set of hyperparameters - \", str(num_of_epochs))\n",
        "print(\"Number of sets of hyperparameters - \",len(hyper_sets))\n",
        "print(\"Total number of epochs - \",len(hyper_sets)*num_of_epochs)\n",
        "print(\"Training on - \",device)\n",
        "print(\"***************************************************************************\\n\")\n",
        "m = RunManager()\n",
        "for run in hyper_sets:\n",
        "    network = Network()\n",
        "    network = network.to(device)\n",
        "    loader = DataLoader(train_set,batch_size=run.batch_size,shuffle=run.shuffle)\n",
        "    optimizer = optim.Adam(network.parameters(),lr=run.lr)\n",
        "    m.begin_run(run,network,loader)\n",
        "    print(f'Run {m.run_count} | {run} \\n')\n",
        "    for epoch in range(num_of_epochs):\n",
        "        m.begin_epoch()\n",
        "        for batch in loader:\n",
        "            images, labels = batch\n",
        "\n",
        "            images = images.to(device)\n",
        "            labels = labels.to(device)\n",
        "\n",
        "            preds = network(images)\n",
        "            loss = F.cross_entropy(preds,labels)\n",
        "\n",
        "            optimizer.zero_grad()\n",
        "            loss.backward()\n",
        "            optimizer.step()\n",
        "\n",
        "            m.track_loss(loss,batch)\n",
        "            m.track_num_correct(preds,labels)\n",
        "\n",
        "        print(\"Epoch : \" + str(epoch+1) + \" | accuracy : \" + str(round((m.epoch_num_correct/len(train_set))*100,3)) + \"% | loss : \" + str(round(m.epoch_loss,5)) + \" | time : \" + str(round(time.time()-m.epoch_start_time,4)) + \"s\")\n",
        "        m.end_epoch()\n",
        "    m.end_run()\n",
        "    print(\"***************************************************************************\\n\")\n",
        "m.save(\"results\")"
      ],
      "execution_count": 35,
      "outputs": [
        {
          "output_type": "stream",
          "text": [
            "Number of epochs per set of hyperparameters -  20\n",
            "Number of sets of hyperparameters -  9\n",
            "Total number of epochs -  180\n",
            "Training on -  cuda:0\n",
            "***************************************************************************\n",
            "\n",
            "Run 1 | Run(lr=0.01, batch_size=100, shuffle=True) \n",
            "\n",
            "Epoch : 1 | accuracy : 78.222% | loss : 34246.05525 | time : 4.8531s\n",
            "Epoch : 2 | accuracy : 85.467% | loss : 23460.81052 | time : 4.908s\n",
            "Epoch : 3 | accuracy : 86.718% | loss : 21286.26548 | time : 4.9227s\n",
            "Epoch : 4 | accuracy : 87.452% | loss : 20331.44021 | time : 4.8807s\n",
            "Epoch : 5 | accuracy : 87.748% | loss : 19846.24372 | time : 4.8381s\n",
            "Epoch : 6 | accuracy : 88.132% | loss : 19125.29515 | time : 4.8918s\n",
            "Epoch : 7 | accuracy : 88.303% | loss : 18823.90784 | time : 4.9097s\n",
            "Epoch : 8 | accuracy : 88.65% | loss : 18366.41599 | time : 4.8309s\n",
            "Epoch : 9 | accuracy : 88.813% | loss : 18125.35339 | time : 4.9009s\n",
            "Epoch : 10 | accuracy : 88.863% | loss : 18181.04372 | time : 4.8053s\n",
            "Epoch : 11 | accuracy : 89.19% | loss : 17737.41153 | time : 4.8561s\n",
            "Epoch : 12 | accuracy : 89.318% | loss : 17510.56222 | time : 4.8563s\n",
            "Epoch : 13 | accuracy : 89.387% | loss : 17109.36133 | time : 4.8473s\n",
            "Epoch : 14 | accuracy : 89.318% | loss : 17394.46899 | time : 4.9062s\n",
            "Epoch : 15 | accuracy : 89.597% | loss : 16708.05211 | time : 4.8686s\n",
            "Epoch : 16 | accuracy : 89.393% | loss : 17176.30027 | time : 4.8517s\n",
            "Epoch : 17 | accuracy : 89.783% | loss : 16545.86135 | time : 4.8326s\n",
            "Epoch : 18 | accuracy : 89.793% | loss : 16642.2221 | time : 4.8137s\n",
            "Epoch : 19 | accuracy : 89.523% | loss : 17087.46866 | time : 4.7983s\n",
            "Epoch : 20 | accuracy : 90.063% | loss : 16253.05911 | time : 4.9199s\n",
            "***************************************************************************\n",
            "\n",
            "Run 2 | Run(lr=0.01, batch_size=500, shuffle=True) \n",
            "\n",
            "Epoch : 1 | accuracy : 71.365% | loss : 45205.00548 | time : 3.8839s\n",
            "Epoch : 2 | accuracy : 84.062% | loss : 25880.05203 | time : 3.98s\n",
            "Epoch : 3 | accuracy : 86.527% | loss : 22110.36454 | time : 3.9555s\n",
            "Epoch : 4 | accuracy : 87.722% | loss : 20075.75591 | time : 3.9316s\n",
            "Epoch : 5 | accuracy : 88.368% | loss : 18823.44672 | time : 3.9093s\n",
            "Epoch : 6 | accuracy : 88.723% | loss : 17957.37238 | time : 3.9831s\n",
            "Epoch : 7 | accuracy : 89.305% | loss : 17142.76716 | time : 3.9518s\n",
            "Epoch : 8 | accuracy : 89.497% | loss : 16691.39054 | time : 3.9035s\n",
            "Epoch : 9 | accuracy : 89.795% | loss : 16318.02259 | time : 3.9358s\n",
            "Epoch : 10 | accuracy : 90.167% | loss : 15741.51014 | time : 3.9851s\n",
            "Epoch : 11 | accuracy : 90.387% | loss : 15315.66824 | time : 3.9318s\n",
            "Epoch : 12 | accuracy : 90.65% | loss : 14890.62825 | time : 3.9537s\n",
            "Epoch : 13 | accuracy : 90.83% | loss : 14381.03343 | time : 3.8764s\n",
            "Epoch : 14 | accuracy : 90.745% | loss : 14642.13779 | time : 4.0273s\n",
            "Epoch : 15 | accuracy : 90.85% | loss : 14466.43588 | time : 3.8911s\n",
            "Epoch : 16 | accuracy : 91.168% | loss : 13917.2876 | time : 3.8851s\n",
            "Epoch : 17 | accuracy : 91.237% | loss : 13895.07443 | time : 3.9341s\n",
            "Epoch : 18 | accuracy : 91.25% | loss : 14051.53216 | time : 3.9738s\n",
            "Epoch : 19 | accuracy : 91.717% | loss : 13182.40745 | time : 3.8859s\n",
            "Epoch : 20 | accuracy : 91.728% | loss : 13190.1337 | time : 3.994s\n",
            "***************************************************************************\n",
            "\n",
            "Run 3 | Run(lr=0.01, batch_size=1000, shuffle=True) \n",
            "\n",
            "Epoch : 1 | accuracy : 60.077% | loss : 62326.88892 | time : 3.9221s\n",
            "Epoch : 2 | accuracy : 77.377% | loss : 34544.10318 | time : 3.8225s\n",
            "Epoch : 3 | accuracy : 81.055% | loss : 29758.77035 | time : 3.9223s\n",
            "Epoch : 4 | accuracy : 83.593% | loss : 26802.69474 | time : 3.873s\n",
            "Epoch : 5 | accuracy : 85.085% | loss : 24436.903 | time : 3.8747s\n",
            "Epoch : 6 | accuracy : 86.382% | loss : 22301.31587 | time : 3.8631s\n",
            "Epoch : 7 | accuracy : 87.223% | loss : 20764.37566 | time : 3.819s\n",
            "Epoch : 8 | accuracy : 87.747% | loss : 19759.58702 | time : 3.9167s\n",
            "Epoch : 9 | accuracy : 88.448% | loss : 18767.60808 | time : 3.9305s\n",
            "Epoch : 10 | accuracy : 88.417% | loss : 18833.69055 | time : 3.8155s\n",
            "Epoch : 11 | accuracy : 89.03% | loss : 17852.13721 | time : 3.832s\n",
            "Epoch : 12 | accuracy : 89.368% | loss : 17103.56903 | time : 3.8761s\n",
            "Epoch : 13 | accuracy : 89.535% | loss : 17036.06306 | time : 3.8687s\n",
            "Epoch : 14 | accuracy : 89.62% | loss : 16772.50758 | time : 3.8161s\n",
            "Epoch : 15 | accuracy : 90.092% | loss : 15978.02776 | time : 3.8237s\n",
            "Epoch : 16 | accuracy : 90.263% | loss : 15593.94355 | time : 3.9355s\n",
            "Epoch : 17 | accuracy : 90.405% | loss : 15409.06177 | time : 3.8153s\n",
            "Epoch : 18 | accuracy : 90.663% | loss : 14845.72588 | time : 3.8623s\n",
            "Epoch : 19 | accuracy : 90.747% | loss : 14749.89691 | time : 3.9632s\n",
            "Epoch : 20 | accuracy : 90.792% | loss : 14791.93045 | time : 3.8238s\n",
            "***************************************************************************\n",
            "\n",
            "Run 4 | Run(lr=0.001, batch_size=100, shuffle=True) \n",
            "\n",
            "Epoch : 1 | accuracy : 72.58% | loss : 44104.79548 | time : 4.9231s\n",
            "Epoch : 2 | accuracy : 83.127% | loss : 27457.94464 | time : 4.8275s\n",
            "Epoch : 3 | accuracy : 85.655% | loss : 23730.96872 | time : 4.8415s\n",
            "Epoch : 4 | accuracy : 86.822% | loss : 21536.5623 | time : 4.9222s\n",
            "Epoch : 5 | accuracy : 87.728% | loss : 19918.70502 | time : 4.9369s\n",
            "Epoch : 6 | accuracy : 88.412% | loss : 18701.51789 | time : 4.811s\n",
            "Epoch : 7 | accuracy : 88.947% | loss : 17962.41096 | time : 4.8385s\n",
            "Epoch : 8 | accuracy : 89.46% | loss : 17100.0488 | time : 4.8656s\n",
            "Epoch : 9 | accuracy : 89.742% | loss : 16498.38527 | time : 4.8394s\n",
            "Epoch : 10 | accuracy : 90.092% | loss : 15917.77405 | time : 4.8577s\n",
            "Epoch : 11 | accuracy : 90.455% | loss : 15439.6586 | time : 4.9254s\n",
            "Epoch : 12 | accuracy : 90.683% | loss : 14973.26847 | time : 4.8346s\n",
            "Epoch : 13 | accuracy : 91.113% | loss : 14458.88805 | time : 4.7993s\n",
            "Epoch : 14 | accuracy : 91.13% | loss : 14167.73801 | time : 4.8887s\n",
            "Epoch : 15 | accuracy : 91.477% | loss : 13776.79649 | time : 4.8623s\n",
            "Epoch : 16 | accuracy : 91.607% | loss : 13419.11806 | time : 4.906s\n",
            "Epoch : 17 | accuracy : 91.758% | loss : 13090.63763 | time : 4.8746s\n",
            "Epoch : 18 | accuracy : 91.973% | loss : 12756.94966 | time : 4.8885s\n",
            "Epoch : 19 | accuracy : 92.172% | loss : 12462.38023 | time : 4.8114s\n",
            "Epoch : 20 | accuracy : 92.517% | loss : 12092.0994 | time : 4.9052s\n",
            "***************************************************************************\n",
            "\n",
            "Run 5 | Run(lr=0.001, batch_size=500, shuffle=True) \n",
            "\n",
            "Epoch : 1 | accuracy : 58.688% | loss : 68349.22874 | time : 3.9295s\n",
            "Epoch : 2 | accuracy : 74.587% | loss : 39998.40537 | time : 3.9302s\n",
            "Epoch : 3 | accuracy : 77.393% | loss : 35791.6217 | time : 4.0516s\n",
            "Epoch : 4 | accuracy : 79.61% | loss : 32868.25435 | time : 3.9015s\n",
            "Epoch : 5 | accuracy : 80.997% | loss : 31013.81887 | time : 3.9581s\n",
            "Epoch : 6 | accuracy : 82.472% | loss : 28915.56828 | time : 3.9989s\n",
            "Epoch : 7 | accuracy : 83.065% | loss : 27834.77041 | time : 3.9305s\n",
            "Epoch : 8 | accuracy : 84.1% | loss : 26261.21318 | time : 3.8799s\n",
            "Epoch : 9 | accuracy : 84.727% | loss : 25388.63826 | time : 3.9108s\n",
            "Epoch : 10 | accuracy : 84.708% | loss : 25104.79511 | time : 4.0108s\n",
            "Epoch : 11 | accuracy : 85.488% | loss : 24051.66088 | time : 3.9046s\n",
            "Epoch : 12 | accuracy : 85.962% | loss : 23224.13047 | time : 3.9089s\n",
            "Epoch : 13 | accuracy : 86.138% | loss : 22771.62103 | time : 3.9301s\n",
            "Epoch : 14 | accuracy : 86.528% | loss : 22268.61921 | time : 4.0282s\n",
            "Epoch : 15 | accuracy : 86.882% | loss : 21770.13241 | time : 3.887s\n",
            "Epoch : 16 | accuracy : 86.97% | loss : 21404.78471 | time : 3.8992s\n",
            "Epoch : 17 | accuracy : 87.207% | loss : 21068.45617 | time : 3.9642s\n",
            "Epoch : 18 | accuracy : 87.457% | loss : 20643.17779 | time : 3.9591s\n",
            "Epoch : 19 | accuracy : 87.585% | loss : 20344.11147 | time : 3.895s\n",
            "Epoch : 20 | accuracy : 87.937% | loss : 19884.54023 | time : 3.9774s\n",
            "***************************************************************************\n",
            "\n",
            "Run 6 | Run(lr=0.001, batch_size=1000, shuffle=True) \n",
            "\n",
            "Epoch : 1 | accuracy : 48.04% | loss : 92724.30801 | time : 3.983s\n",
            "Epoch : 2 | accuracy : 70.748% | loss : 45334.68479 | time : 3.8328s\n",
            "Epoch : 3 | accuracy : 73.647% | loss : 40055.04751 | time : 3.9101s\n",
            "Epoch : 4 | accuracy : 76.02% | loss : 36493.47389 | time : 3.8569s\n",
            "Epoch : 5 | accuracy : 77.637% | loss : 34299.75188 | time : 3.7821s\n",
            "Epoch : 6 | accuracy : 79.372% | loss : 32237.06433 | time : 3.9327s\n",
            "Epoch : 7 | accuracy : 80.278% | loss : 30849.3728 | time : 3.8087s\n",
            "Epoch : 8 | accuracy : 81.055% | loss : 30046.46778 | time : 3.9476s\n",
            "Epoch : 9 | accuracy : 81.978% | loss : 28858.05154 | time : 3.7974s\n",
            "Epoch : 10 | accuracy : 82.598% | loss : 28022.59365 | time : 3.8234s\n",
            "Epoch : 11 | accuracy : 83.417% | loss : 27109.76556 | time : 3.9023s\n",
            "Epoch : 12 | accuracy : 83.967% | loss : 26421.19595 | time : 3.8526s\n",
            "Epoch : 13 | accuracy : 84.453% | loss : 25637.33047 | time : 3.8149s\n",
            "Epoch : 14 | accuracy : 84.627% | loss : 25283.81658 | time : 3.8088s\n",
            "Epoch : 15 | accuracy : 85.25% | loss : 24490.89745 | time : 3.9398s\n",
            "Epoch : 16 | accuracy : 85.703% | loss : 23722.77695 | time : 3.8367s\n",
            "Epoch : 17 | accuracy : 85.828% | loss : 23476.56804 | time : 3.8127s\n",
            "Epoch : 18 | accuracy : 86.115% | loss : 23065.29757 | time : 3.9677s\n",
            "Epoch : 19 | accuracy : 86.373% | loss : 22657.28769 | time : 3.8778s\n",
            "Epoch : 20 | accuracy : 86.797% | loss : 21931.13774 | time : 3.8042s\n",
            "***************************************************************************\n",
            "\n",
            "Run 7 | Run(lr=0.005, batch_size=100, shuffle=True) \n",
            "\n",
            "Epoch : 1 | accuracy : 76.97% | loss : 36221.56833 | time : 4.9021s\n",
            "Epoch : 2 | accuracy : 85.622% | loss : 23582.4762 | time : 4.9629s\n",
            "Epoch : 3 | accuracy : 87.528% | loss : 20308.6831 | time : 4.9151s\n",
            "Epoch : 4 | accuracy : 88.21% | loss : 19083.28636 | time : 4.9014s\n",
            "Epoch : 5 | accuracy : 88.913% | loss : 17872.76796 | time : 4.9081s\n",
            "Epoch : 6 | accuracy : 89.522% | loss : 17132.69942 | time : 4.9125s\n",
            "Epoch : 7 | accuracy : 89.685% | loss : 16571.74553 | time : 4.8467s\n",
            "Epoch : 8 | accuracy : 89.935% | loss : 16283.24806 | time : 4.9436s\n",
            "Epoch : 9 | accuracy : 90.137% | loss : 15665.26704 | time : 4.8803s\n",
            "Epoch : 10 | accuracy : 90.433% | loss : 15255.01436 | time : 4.8544s\n",
            "Epoch : 11 | accuracy : 90.762% | loss : 14780.05088 | time : 4.9195s\n",
            "Epoch : 12 | accuracy : 90.792% | loss : 14625.45245 | time : 4.8673s\n",
            "Epoch : 13 | accuracy : 91.195% | loss : 14074.78696 | time : 4.9371s\n",
            "Epoch : 14 | accuracy : 91.405% | loss : 13781.09116 | time : 4.9047s\n",
            "Epoch : 15 | accuracy : 91.4% | loss : 13582.34763 | time : 4.8984s\n",
            "Epoch : 16 | accuracy : 91.555% | loss : 13450.8822 | time : 4.8968s\n",
            "Epoch : 17 | accuracy : 91.567% | loss : 13503.02134 | time : 4.8458s\n",
            "Epoch : 18 | accuracy : 91.648% | loss : 13250.19869 | time : 4.8964s\n",
            "Epoch : 19 | accuracy : 91.65% | loss : 13053.29352 | time : 4.9483s\n",
            "Epoch : 20 | accuracy : 92.003% | loss : 12856.24345 | time : 4.903s\n",
            "***************************************************************************\n",
            "\n",
            "Run 8 | Run(lr=0.005, batch_size=500, shuffle=True) \n",
            "\n",
            "Epoch : 1 | accuracy : 64.833% | loss : 56048.40738 | time : 4.0239s\n",
            "Epoch : 2 | accuracy : 78.355% | loss : 34005.53326 | time : 3.9094s\n",
            "Epoch : 3 | accuracy : 82.975% | loss : 27770.027 | time : 3.885s\n",
            "Epoch : 4 | accuracy : 85.228% | loss : 24538.28001 | time : 3.9094s\n",
            "Epoch : 5 | accuracy : 86.42% | loss : 22511.4104 | time : 3.9494s\n",
            "Epoch : 6 | accuracy : 87.16% | loss : 21039.0608 | time : 3.9584s\n",
            "Epoch : 7 | accuracy : 87.75% | loss : 19772.82603 | time : 3.8967s\n",
            "Epoch : 8 | accuracy : 88.13% | loss : 19056.41583 | time : 3.9795s\n",
            "Epoch : 9 | accuracy : 88.547% | loss : 18450.65176 | time : 4.062s\n",
            "Epoch : 10 | accuracy : 89.072% | loss : 17580.20824 | time : 3.907s\n",
            "Epoch : 11 | accuracy : 89.408% | loss : 17070.90629 | time : 3.8831s\n",
            "Epoch : 12 | accuracy : 89.66% | loss : 16693.40307 | time : 3.8885s\n",
            "Epoch : 13 | accuracy : 89.618% | loss : 16580.81139 | time : 4.0044s\n",
            "Epoch : 14 | accuracy : 90.145% | loss : 15834.01765 | time : 3.8971s\n",
            "Epoch : 15 | accuracy : 90.202% | loss : 15604.61712 | time : 3.9444s\n",
            "Epoch : 16 | accuracy : 90.318% | loss : 15315.65551 | time : 4.07s\n",
            "Epoch : 17 | accuracy : 90.65% | loss : 14863.67153 | time : 3.9739s\n",
            "Epoch : 18 | accuracy : 90.933% | loss : 14420.04056 | time : 3.9304s\n",
            "Epoch : 19 | accuracy : 91.127% | loss : 14184.85884 | time : 3.9049s\n",
            "Epoch : 20 | accuracy : 91.255% | loss : 13761.15814 | time : 4.0305s\n",
            "***************************************************************************\n",
            "\n",
            "Run 9 | Run(lr=0.005, batch_size=1000, shuffle=True) \n",
            "\n",
            "Epoch : 1 | accuracy : 59.357% | loss : 65694.6094 | time : 3.7805s\n",
            "Epoch : 2 | accuracy : 75.418% | loss : 38656.06415 | time : 3.8258s\n",
            "Epoch : 3 | accuracy : 79.383% | loss : 32978.78322 | time : 3.8678s\n",
            "Epoch : 4 | accuracy : 81.5% | loss : 30074.45133 | time : 3.9287s\n",
            "Epoch : 5 | accuracy : 83.123% | loss : 27677.04356 | time : 3.8402s\n",
            "Epoch : 6 | accuracy : 84.282% | loss : 25847.42361 | time : 3.8618s\n",
            "Epoch : 7 | accuracy : 85.048% | loss : 24625.93436 | time : 3.9182s\n",
            "Epoch : 8 | accuracy : 86.075% | loss : 22953.59576 | time : 3.8459s\n",
            "Epoch : 9 | accuracy : 86.398% | loss : 22367.37812 | time : 3.9057s\n",
            "Epoch : 10 | accuracy : 87.022% | loss : 21367.47843 | time : 3.8002s\n",
            "Epoch : 11 | accuracy : 87.265% | loss : 20759.24224 | time : 3.8773s\n",
            "Epoch : 12 | accuracy : 87.813% | loss : 19950.1642 | time : 3.8727s\n",
            "Epoch : 13 | accuracy : 88.092% | loss : 19503.50237 | time : 3.9182s\n",
            "Epoch : 14 | accuracy : 88.377% | loss : 18900.13066 | time : 3.861s\n",
            "Epoch : 15 | accuracy : 88.623% | loss : 18591.33202 | time : 3.9692s\n",
            "Epoch : 16 | accuracy : 88.722% | loss : 18128.92875 | time : 3.8208s\n",
            "Epoch : 17 | accuracy : 88.983% | loss : 17908.95325 | time : 3.8149s\n",
            "Epoch : 18 | accuracy : 89.305% | loss : 17442.37031 | time : 3.9771s\n",
            "Epoch : 19 | accuracy : 89.447% | loss : 17086.83291 | time : 3.8304s\n",
            "Epoch : 20 | accuracy : 89.472% | loss : 16910.90487 | time : 3.8872s\n",
            "***************************************************************************\n",
            "\n"
          ],
          "name": "stdout"
        }
      ]
    },
    {
      "cell_type": "code",
      "metadata": {
        "colab": {
          "base_uri": "https://localhost:8080/",
          "height": 419
        },
        "id": "f69QYgHFHJY5",
        "outputId": "1e9eecf7-3655-4635-fcd8-f8339e67f0c0"
      },
      "source": [
        "m.dataframe"
      ],
      "execution_count": 36,
      "outputs": [
        {
          "output_type": "execute_result",
          "data": {
            "text/html": [
              "<div>\n",
              "<style scoped>\n",
              "    .dataframe tbody tr th:only-of-type {\n",
              "        vertical-align: middle;\n",
              "    }\n",
              "\n",
              "    .dataframe tbody tr th {\n",
              "        vertical-align: top;\n",
              "    }\n",
              "\n",
              "    .dataframe thead th {\n",
              "        text-align: right;\n",
              "    }\n",
              "</style>\n",
              "<table border=\"1\" class=\"dataframe\">\n",
              "  <thead>\n",
              "    <tr style=\"text-align: right;\">\n",
              "      <th></th>\n",
              "      <th>run</th>\n",
              "      <th>epoch</th>\n",
              "      <th>loss</th>\n",
              "      <th>accuracy</th>\n",
              "      <th>epoch duration</th>\n",
              "      <th>run duration</th>\n",
              "      <th>lr</th>\n",
              "      <th>batch_size</th>\n",
              "      <th>shuffle</th>\n",
              "    </tr>\n",
              "  </thead>\n",
              "  <tbody>\n",
              "    <tr>\n",
              "      <th>0</th>\n",
              "      <td>1</td>\n",
              "      <td>1</td>\n",
              "      <td>0.570768</td>\n",
              "      <td>0.782217</td>\n",
              "      <td>4.853228</td>\n",
              "      <td>4.867758</td>\n",
              "      <td>0.010</td>\n",
              "      <td>100</td>\n",
              "      <td>True</td>\n",
              "    </tr>\n",
              "    <tr>\n",
              "      <th>1</th>\n",
              "      <td>1</td>\n",
              "      <td>2</td>\n",
              "      <td>0.391014</td>\n",
              "      <td>0.854667</td>\n",
              "      <td>4.908103</td>\n",
              "      <td>9.775888</td>\n",
              "      <td>0.010</td>\n",
              "      <td>100</td>\n",
              "      <td>True</td>\n",
              "    </tr>\n",
              "    <tr>\n",
              "      <th>2</th>\n",
              "      <td>1</td>\n",
              "      <td>3</td>\n",
              "      <td>0.354771</td>\n",
              "      <td>0.867183</td>\n",
              "      <td>4.922814</td>\n",
              "      <td>14.698740</td>\n",
              "      <td>0.010</td>\n",
              "      <td>100</td>\n",
              "      <td>True</td>\n",
              "    </tr>\n",
              "    <tr>\n",
              "      <th>3</th>\n",
              "      <td>1</td>\n",
              "      <td>4</td>\n",
              "      <td>0.338857</td>\n",
              "      <td>0.874517</td>\n",
              "      <td>4.880850</td>\n",
              "      <td>19.579617</td>\n",
              "      <td>0.010</td>\n",
              "      <td>100</td>\n",
              "      <td>True</td>\n",
              "    </tr>\n",
              "    <tr>\n",
              "      <th>4</th>\n",
              "      <td>1</td>\n",
              "      <td>5</td>\n",
              "      <td>0.330771</td>\n",
              "      <td>0.877483</td>\n",
              "      <td>4.838227</td>\n",
              "      <td>24.417870</td>\n",
              "      <td>0.010</td>\n",
              "      <td>100</td>\n",
              "      <td>True</td>\n",
              "    </tr>\n",
              "    <tr>\n",
              "      <th>...</th>\n",
              "      <td>...</td>\n",
              "      <td>...</td>\n",
              "      <td>...</td>\n",
              "      <td>...</td>\n",
              "      <td>...</td>\n",
              "      <td>...</td>\n",
              "      <td>...</td>\n",
              "      <td>...</td>\n",
              "      <td>...</td>\n",
              "    </tr>\n",
              "    <tr>\n",
              "      <th>175</th>\n",
              "      <td>9</td>\n",
              "      <td>16</td>\n",
              "      <td>0.302149</td>\n",
              "      <td>0.887217</td>\n",
              "      <td>3.820917</td>\n",
              "      <td>61.955592</td>\n",
              "      <td>0.005</td>\n",
              "      <td>1000</td>\n",
              "      <td>True</td>\n",
              "    </tr>\n",
              "    <tr>\n",
              "      <th>176</th>\n",
              "      <td>9</td>\n",
              "      <td>17</td>\n",
              "      <td>0.298483</td>\n",
              "      <td>0.889833</td>\n",
              "      <td>3.814975</td>\n",
              "      <td>65.770595</td>\n",
              "      <td>0.005</td>\n",
              "      <td>1000</td>\n",
              "      <td>True</td>\n",
              "    </tr>\n",
              "    <tr>\n",
              "      <th>177</th>\n",
              "      <td>9</td>\n",
              "      <td>18</td>\n",
              "      <td>0.290706</td>\n",
              "      <td>0.893050</td>\n",
              "      <td>3.977161</td>\n",
              "      <td>69.747782</td>\n",
              "      <td>0.005</td>\n",
              "      <td>1000</td>\n",
              "      <td>True</td>\n",
              "    </tr>\n",
              "    <tr>\n",
              "      <th>178</th>\n",
              "      <td>9</td>\n",
              "      <td>19</td>\n",
              "      <td>0.284781</td>\n",
              "      <td>0.894467</td>\n",
              "      <td>3.830544</td>\n",
              "      <td>73.578352</td>\n",
              "      <td>0.005</td>\n",
              "      <td>1000</td>\n",
              "      <td>True</td>\n",
              "    </tr>\n",
              "    <tr>\n",
              "      <th>179</th>\n",
              "      <td>9</td>\n",
              "      <td>20</td>\n",
              "      <td>0.281848</td>\n",
              "      <td>0.894717</td>\n",
              "      <td>3.887341</td>\n",
              "      <td>77.465719</td>\n",
              "      <td>0.005</td>\n",
              "      <td>1000</td>\n",
              "      <td>True</td>\n",
              "    </tr>\n",
              "  </tbody>\n",
              "</table>\n",
              "<p>180 rows × 9 columns</p>\n",
              "</div>"
            ],
            "text/plain": [
              "     run  epoch      loss  accuracy  ...  run duration     lr  batch_size  shuffle\n",
              "0      1      1  0.570768  0.782217  ...      4.867758  0.010         100     True\n",
              "1      1      2  0.391014  0.854667  ...      9.775888  0.010         100     True\n",
              "2      1      3  0.354771  0.867183  ...     14.698740  0.010         100     True\n",
              "3      1      4  0.338857  0.874517  ...     19.579617  0.010         100     True\n",
              "4      1      5  0.330771  0.877483  ...     24.417870  0.010         100     True\n",
              "..   ...    ...       ...       ...  ...           ...    ...         ...      ...\n",
              "175    9     16  0.302149  0.887217  ...     61.955592  0.005        1000     True\n",
              "176    9     17  0.298483  0.889833  ...     65.770595  0.005        1000     True\n",
              "177    9     18  0.290706  0.893050  ...     69.747782  0.005        1000     True\n",
              "178    9     19  0.284781  0.894467  ...     73.578352  0.005        1000     True\n",
              "179    9     20  0.281848  0.894717  ...     77.465719  0.005        1000     True\n",
              "\n",
              "[180 rows x 9 columns]"
            ]
          },
          "metadata": {
            "tags": []
          },
          "execution_count": 36
        }
      ]
    },
    {
      "cell_type": "code",
      "metadata": {
        "colab": {
          "base_uri": "https://localhost:8080/",
          "height": 232
        },
        "id": "VFBJgVBl06Xs",
        "outputId": "1b16c417-e6f1-410a-d06c-6b9bc494f59e"
      },
      "source": [
        "test_set_loader = torch.utils.data.DataLoader(test_set,batch_size=100,shuffle=True)\n",
        "correct = 0\n",
        "with torch.no_grad():\n",
        "    for batch in test_set_loader:\n",
        "        images, labels = batch\n",
        "        images = images.to(device)\n",
        "        labels = labels.to(device)\n",
        "        preds = network(images)\n",
        "        correct += get_num_correct_pred(preds,labels)\n",
        "\n",
        "    result = (correct/len(test_set)).item()\n",
        "    print(round(result,4)*100,\"%\")"
      ],
      "execution_count": 37,
      "outputs": [
        {
          "output_type": "error",
          "ename": "NameError",
          "evalue": "ignored",
          "traceback": [
            "\u001b[0;31m---------------------------------------------------------------------------\u001b[0m",
            "\u001b[0;31mNameError\u001b[0m                                 Traceback (most recent call last)",
            "\u001b[0;32m<ipython-input-37-6d041a2921d5>\u001b[0m in \u001b[0;36m<module>\u001b[0;34m()\u001b[0m\n\u001b[1;32m      7\u001b[0m         \u001b[0mlabels\u001b[0m \u001b[0;34m=\u001b[0m \u001b[0mlabels\u001b[0m\u001b[0;34m.\u001b[0m\u001b[0mto\u001b[0m\u001b[0;34m(\u001b[0m\u001b[0mdevice\u001b[0m\u001b[0;34m)\u001b[0m\u001b[0;34m\u001b[0m\u001b[0;34m\u001b[0m\u001b[0m\n\u001b[1;32m      8\u001b[0m         \u001b[0mpreds\u001b[0m \u001b[0;34m=\u001b[0m \u001b[0mnetwork\u001b[0m\u001b[0;34m(\u001b[0m\u001b[0mimages\u001b[0m\u001b[0;34m)\u001b[0m\u001b[0;34m\u001b[0m\u001b[0;34m\u001b[0m\u001b[0m\n\u001b[0;32m----> 9\u001b[0;31m         \u001b[0mcorrect\u001b[0m \u001b[0;34m+=\u001b[0m \u001b[0mget_num_correct_pred\u001b[0m\u001b[0;34m(\u001b[0m\u001b[0mpreds\u001b[0m\u001b[0;34m,\u001b[0m\u001b[0mlabels\u001b[0m\u001b[0;34m)\u001b[0m\u001b[0;34m\u001b[0m\u001b[0;34m\u001b[0m\u001b[0m\n\u001b[0m\u001b[1;32m     10\u001b[0m \u001b[0;34m\u001b[0m\u001b[0m\n\u001b[1;32m     11\u001b[0m     \u001b[0mresult\u001b[0m \u001b[0;34m=\u001b[0m \u001b[0;34m(\u001b[0m\u001b[0mcorrect\u001b[0m\u001b[0;34m/\u001b[0m\u001b[0mlen\u001b[0m\u001b[0;34m(\u001b[0m\u001b[0mtest_set\u001b[0m\u001b[0;34m)\u001b[0m\u001b[0;34m)\u001b[0m\u001b[0;34m.\u001b[0m\u001b[0mitem\u001b[0m\u001b[0;34m(\u001b[0m\u001b[0;34m)\u001b[0m\u001b[0;34m\u001b[0m\u001b[0;34m\u001b[0m\u001b[0m\n",
            "\u001b[0;31mNameError\u001b[0m: name 'get_num_correct_pred' is not defined"
          ]
        }
      ]
    },
    {
      "cell_type": "code",
      "metadata": {
        "id": "zRblfl01MOm4"
      },
      "source": [
        ""
      ],
      "execution_count": null,
      "outputs": []
    }
  ]
}