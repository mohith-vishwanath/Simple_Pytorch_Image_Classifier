{
  "nbformat": 4,
  "nbformat_minor": 0,
  "metadata": {
    "colab": {
      "name": "PyTorch.ipynb",
      "provenance": [],
      "authorship_tag": "ABX9TyNFgJaJEg6AzgoDKanSy5HR",
      "include_colab_link": true
    },
    "kernelspec": {
      "name": "python3",
      "display_name": "Python 3"
    },
    "language_info": {
      "name": "python"
    }
  },
  "cells": [
    {
      "cell_type": "markdown",
      "metadata": {
        "id": "view-in-github",
        "colab_type": "text"
      },
      "source": [
        "<a href=\"https://colab.research.google.com/github/mohith-vishwanath/Simple_Pytorch_Image_Classifier/blob/main/PyTorch.ipynb\" target=\"_parent\"><img src=\"https://colab.research.google.com/assets/colab-badge.svg\" alt=\"Open In Colab\"/></a>"
      ]
    },
    {
      "cell_type": "markdown",
      "metadata": {
        "id": "Em8f5t8jxZ9b"
      },
      "source": [
        "### **Necessary Imports**"
      ]
    },
    {
      "cell_type": "code",
      "metadata": {
        "id": "_Vb6cM0LI2tV"
      },
      "source": [
        "import torch\n",
        "import torch.nn as nn\n",
        "import torch.optim as optim\n",
        "import torch.nn.functional as F\n",
        "import torchvision\n",
        "import torchvision.transforms as transforms\n",
        "\n",
        "from torch.utils.data import DataLoader\n",
        "from torch.utils.tensorboard import SummaryWriter\n",
        "from IPython.display import display, clear_output\n",
        "import pandas as pd\n",
        "import time\n",
        "import json\n",
        "\n",
        "from itertools import product\n",
        "from collections import namedtuple\n",
        "from collections import OrderedDict\n",
        "\n",
        "import numpy as np\n",
        "import matplotlib.pyplot as plt\n",
        "\n",
        "import time\n",
        "\n",
        "torch.set_printoptions(linewidth=120)\n",
        "# torch.set_grad_enabled(False)"
      ],
      "execution_count": 1,
      "outputs": []
    },
    {
      "cell_type": "code",
      "metadata": {
        "colab": {
          "base_uri": "https://localhost:8080/"
        },
        "id": "hMTretjQllhR",
        "outputId": "8c3e48e1-0610-4185-a3da-57e3e98a0f6b"
      },
      "source": [
        "print(torch.__version__)\n",
        "print(torchvision.__version__)"
      ],
      "execution_count": 2,
      "outputs": [
        {
          "output_type": "stream",
          "text": [
            "1.8.1+cu101\n",
            "0.9.1+cu101\n"
          ],
          "name": "stdout"
        }
      ]
    },
    {
      "cell_type": "code",
      "metadata": {
        "colab": {
          "base_uri": "https://localhost:8080/"
        },
        "id": "scu_C8gG0Uj9",
        "outputId": "a2563806-4182-4a03-cca6-0a61109a53b4"
      },
      "source": [
        "#Check if GPU is available\n",
        "device = \"\"\n",
        "if torch.cuda.is_available():\n",
        "    device = \"cuda:0\"\n",
        "    print(\"GPU available\")\n",
        "else:\n",
        "    device = \"cpu\"\n",
        "    print(\"Only CPU available\")"
      ],
      "execution_count": 3,
      "outputs": [
        {
          "output_type": "stream",
          "text": [
            "Only CPU available\n"
          ],
          "name": "stdout"
        }
      ]
    },
    {
      "cell_type": "markdown",
      "metadata": {
        "id": "T4j4vlaaxmOD"
      },
      "source": [
        "### **Download FashionMNIST dataset**"
      ]
    },
    {
      "cell_type": "code",
      "metadata": {
        "id": "81-Hbx5rJAfP"
      },
      "source": [
        "#Training set\n",
        "train_set = torchvision.datasets.FashionMNIST(\n",
        "    root = \"\",\n",
        "    train=True,\n",
        "    download=True,\n",
        "    transform=transforms.Compose([\n",
        "        transforms.ToTensor()\n",
        "    ])\n",
        ")"
      ],
      "execution_count": null,
      "outputs": []
    },
    {
      "cell_type": "code",
      "metadata": {
        "id": "3De9mJBm4Ogy"
      },
      "source": [
        "#Testing set\n",
        "test_set = torchvision.datasets.FashionMNIST(\n",
        "    root = \"\",\n",
        "    train=False,\n",
        "    download=True,\n",
        "    transform=transforms.Compose([\n",
        "        transforms.ToTensor()\n",
        "    ])\n",
        ")"
      ],
      "execution_count": 5,
      "outputs": []
    },
    {
      "cell_type": "code",
      "metadata": {
        "colab": {
          "base_uri": "https://localhost:8080/"
        },
        "id": "u5DPwDzGJgKh",
        "outputId": "61673924-97c9-4a4c-9bc7-eba153263bf4"
      },
      "source": [
        "#Number of data points for each class\n",
        "train_set.targets.bincount()"
      ],
      "execution_count": 6,
      "outputs": [
        {
          "output_type": "execute_result",
          "data": {
            "text/plain": [
              "tensor([6000, 6000, 6000, 6000, 6000, 6000, 6000, 6000, 6000, 6000])"
            ]
          },
          "metadata": {
            "tags": []
          },
          "execution_count": 6
        }
      ]
    },
    {
      "cell_type": "code",
      "metadata": {
        "colab": {
          "base_uri": "https://localhost:8080/"
        },
        "id": "ocdbmIUh4sfg",
        "outputId": "88650097-ce09-4adf-fcf5-49df2cd4ac94"
      },
      "source": [
        "#Number of data points for each class\n",
        "test_set.targets.bincount()"
      ],
      "execution_count": 7,
      "outputs": [
        {
          "output_type": "execute_result",
          "data": {
            "text/plain": [
              "tensor([1000, 1000, 1000, 1000, 1000, 1000, 1000, 1000, 1000, 1000])"
            ]
          },
          "metadata": {
            "tags": []
          },
          "execution_count": 7
        }
      ]
    },
    {
      "cell_type": "markdown",
      "metadata": {
        "id": "2u4bSihvxxlG"
      },
      "source": [
        "### **Analysing Dataset**"
      ]
    },
    {
      "cell_type": "code",
      "metadata": {
        "id": "b6Ax97n7Jo8u",
        "colab": {
          "base_uri": "https://localhost:8080/",
          "height": 282
        },
        "outputId": "2133c235-c4ea-43f8-d641-467e8d8d1fe4"
      },
      "source": [
        "sample_iter = iter(train_set)\n",
        "sample = next(sample_iter)\n",
        "image, target = sample\n",
        "\n",
        "plt.imshow(image.squeeze(),cmap=\"gray\")\n",
        "print(\"Label : \" + str(target))"
      ],
      "execution_count": 8,
      "outputs": [
        {
          "output_type": "stream",
          "text": [
            "Label : 9\n"
          ],
          "name": "stdout"
        },
        {
          "output_type": "display_data",
          "data": {
            "image/png": "[encoded data removed]",
            "text/plain": [
              "<Figure size 432x288 with 1 Axes>"
            ]
          },
          "metadata": {
            "tags": [],
            "needs_background": "light"
          }
        }
      ]
    },
    {
      "cell_type": "markdown",
      "metadata": {
        "id": "zYseii_E1Ncn"
      },
      "source": [
        "### **Helper Functions**"
      ]
    },
    {
      "cell_type": "code",
      "metadata": {
        "id": "Rz0lby0J1UI-"
      },
      "source": [
        "#This class returns all the combinations of hyperparameters with which the model needs to be trained\n",
        "\n",
        "class RunBuilder:\n",
        "    @staticmethod\n",
        "    def get_runs(params):\n",
        "        Runs = namedtuple(\"Run\",params.keys())\n",
        "        runs = []\n",
        "        for v in product(*params.values()):\n",
        "            runs.append(Runs(*v))\n",
        "        return runs"
      ],
      "execution_count": 9,
      "outputs": []
    },
    {
      "cell_type": "code",
      "metadata": {
        "id": "q6R28r-k1SN8"
      },
      "source": [
        "class RunManager:\n",
        "    def __init__(self):\n",
        "        self.epoch_count = 0\n",
        "        self.epoch_loss = 0\n",
        "        self.epoch_num_correct = 0\n",
        "        self.epoch_start_time = None\n",
        "\n",
        "        self.run_params = None\n",
        "        self.run_count = 0\n",
        "        self.run_data = []\n",
        "        self.run_start_time = None\n",
        "\n",
        "        self.network = None\n",
        "        self.loader = None\n",
        "    \n",
        "    def begin_run(self, run, network, loader):\n",
        "        self.run_start_time = time.time()\n",
        "\n",
        "        self.run_params = run\n",
        "        self.run_count += 1\n",
        "\n",
        "        self.network = network\n",
        "        self.loader = loader\n",
        "\n",
        "        images, labels = next(iter(self.loader))\n",
        "    \n",
        "    def end_run(self):\n",
        "        self.epoch_count = 0\n",
        "    \n",
        "    def begin_epoch(self):\n",
        "        self.epoch_start_time = time.time()\n",
        "\n",
        "        self.epoch_count += 1\n",
        "        self.epoch_loss = 0\n",
        "        self.epoch_num_correct = 0\n",
        "    \n",
        "    def end_epoch(self):\n",
        "        epoch_duration = time.time() - self.epoch_start_time\n",
        "        run_duration = time.time() - self.run_start_time\n",
        "\n",
        "        loss = self.epoch_loss / len(self.loader.dataset)\n",
        "        accuracy = self.epoch_num_correct / len(self.loader.dataset)\n",
        "\n",
        "        results = OrderedDict()\n",
        "        results[\"run\"] = self.run_count\n",
        "        results[\"epoch\"] = self.epoch_count\n",
        "        results['loss'] = loss\n",
        "        results[\"accuracy\"] = accuracy\n",
        "        results['epoch duration'] = epoch_duration\n",
        "        results['run duration'] = run_duration\n",
        "        for k,v in self.run_params._asdict().items(): results[k] = v\n",
        "        self.run_data.append(results)\n",
        "\n",
        "        df = pd.DataFrame.from_dict(self.run_data, orient='columns')\n",
        "    \n",
        "    def track_loss(self, loss, batch):\n",
        "        self.epoch_loss += loss.item() * batch[0].shape[0]\n",
        "\n",
        "    def track_num_correct(self, preds, labels):\n",
        "        self.epoch_num_correct += self.get_num_correct(preds, labels)\n",
        "    \n",
        "    def _get_num_correct(self, preds, labels):\n",
        "        return preds.argmax(dim=1).eq(labels).sum().item()\n",
        "    \n",
        "    def save(self, fileName):\n",
        "        pd.DataFrame.from_dict(\n",
        "            self.run_data, orient='columns'\n",
        "        ).to_csv(f'{fileName}.csv')\n",
        "\n",
        "        with open(f'{fileName}.json', 'w', encoding='utf-8') as f:\n",
        "            json.dump(self.run_data, f, ensure_ascii=False, indent=4)"
      ],
      "execution_count": 10,
      "outputs": []
    },
    {
      "cell_type": "markdown",
      "metadata": {
        "id": "PmAFiXEK3kf_"
      },
      "source": [
        "### **The Neural Network**\n"
      ]
    },
    {
      "cell_type": "code",
      "metadata": {
        "id": "P4idCyYxvob-"
      },
      "source": [
        "class Network(nn.Module):\n",
        "    def __init__(self):\n",
        "        super().__init__()\n",
        "        self.conv1 = nn.Conv2d(in_channels=1,out_channels=6,kernel_size=5)\n",
        "        self.conv2 = nn.Conv2d(in_channels=6,out_channels=12,kernel_size=5)\n",
        "\n",
        "        self.fc1 = nn.Linear(in_features=192,out_features=120)\n",
        "        self.fc2 = nn.Linear(in_features=120,out_features=60)\n",
        "        self.out = nn.Linear(in_features=60,out_features=10)\n",
        "    \n",
        "\n",
        "    def forward(self,t):\n",
        "        #Layer1\n",
        "        t = t\n",
        "\n",
        "        #Layer2\n",
        "        t = self.conv1(t)\n",
        "        t = F.relu(t)\n",
        "        t = F.max_pool2d(t,kernel_size=2,stride=2)\n",
        "\n",
        "        #Layer3\n",
        "        t = self.conv2(t)\n",
        "        t = F.relu(t)\n",
        "        t = F.max_pool2d(t,kernel_size=2,stride=2)\n",
        "\n",
        "        #Layer4\n",
        "        t = t.reshape(-1,12*4*4)\n",
        "        t = self.fc1(t)\n",
        "        t = F.relu(t)\n",
        "\n",
        "        #Layer5\n",
        "        t = self.fc2(t)\n",
        "        t = F.relu(t)\n",
        "\n",
        "        #Layer6\n",
        "        t = self.out(t)\n",
        "        # t = F.softmax(t)\n",
        "\n",
        "        return t"
      ],
      "execution_count": 7,
      "outputs": []
    },
    {
      "cell_type": "code",
      "metadata": {
        "colab": {
          "base_uri": "https://localhost:8080/"
        },
        "id": "ufVuODm4J-J7",
        "outputId": "1ba12f67-c7de-41d0-8c82-2de36f971810"
      },
      "source": [
        "network = Network() \n",
        "network = network.to(device)\n",
        "\n",
        "num_of_epochs = 50\n",
        "\n",
        "optimiser = optim.Adam(network.parameters(),lr=0.01)\n",
        "train_loader = torch.utils.data.DataLoader(train_set,batch_size=100,shuffle=True)\n",
        "for e in range(1,num_of_epochs+1):\n",
        "    total_loss = 0.0\n",
        "    total_correct = 0\n",
        "    start_time = time.time()\n",
        "    for batch in train_loader:\n",
        "        images, labels = batch\n",
        "        images = images.to(device)\n",
        "        labels = labels.to(device)\n",
        "        pred = network(images)\n",
        "        loss = F.cross_entropy(pred,labels)\n",
        "\n",
        "        optimiser.zero_grad()\n",
        "        loss.backward()\n",
        "        optimiser.step()\n",
        "\n",
        "        total_loss += loss.item()\n",
        "        total_correct += get_num_correct_pred(pred,labels).item()\n",
        "\n",
        "    end_time = time.time()\n",
        "\n",
        "    print(\"Epoch : \" + str(e) + \" | accuracy : \" + str(round((total_correct/len(train_set))*100,3)) + \"% | loss : \" + str(round(total_loss,5)) + \" | time : \" + str(round(end_time-start_time,4)) + \"s\")"
      ],
      "execution_count": 43,
      "outputs": [
        {
          "output_type": "stream",
          "text": [
            "Epoch : 1 | accuracy : 78.845% | loss : 338.4023 | time : 4.6358s\n",
            "Epoch : 2 | accuracy : 86.145% | loss : 224.65034 | time : 4.645s\n",
            "Epoch : 3 | accuracy : 87.365% | loss : 205.04975 | time : 4.5891s\n",
            "Epoch : 4 | accuracy : 87.47% | loss : 200.90158 | time : 4.5193s\n",
            "Epoch : 5 | accuracy : 87.925% | loss : 195.37557 | time : 4.6596s\n",
            "Epoch : 6 | accuracy : 88.343% | loss : 187.39291 | time : 4.6996s\n",
            "Epoch : 7 | accuracy : 88.437% | loss : 184.28281 | time : 4.5711s\n",
            "Epoch : 8 | accuracy : 88.833% | loss : 180.80474 | time : 4.5869s\n",
            "Epoch : 9 | accuracy : 88.633% | loss : 181.73404 | time : 4.5851s\n",
            "Epoch : 10 | accuracy : 88.872% | loss : 182.07069 | time : 4.5806s\n",
            "Epoch : 11 | accuracy : 89.067% | loss : 177.32943 | time : 4.5675s\n",
            "Epoch : 12 | accuracy : 89.33% | loss : 173.18192 | time : 4.6801s\n",
            "Epoch : 13 | accuracy : 89.302% | loss : 172.20611 | time : 4.5856s\n",
            "Epoch : 14 | accuracy : 89.325% | loss : 173.22183 | time : 4.5696s\n",
            "Epoch : 15 | accuracy : 89.58% | loss : 168.62854 | time : 4.6011s\n",
            "Epoch : 16 | accuracy : 89.797% | loss : 165.08817 | time : 4.5878s\n",
            "Epoch : 17 | accuracy : 89.588% | loss : 171.01926 | time : 4.5952s\n",
            "Epoch : 18 | accuracy : 89.935% | loss : 164.87738 | time : 4.6157s\n",
            "Epoch : 19 | accuracy : 89.962% | loss : 162.31694 | time : 4.6891s\n",
            "Epoch : 20 | accuracy : 89.87% | loss : 165.95344 | time : 4.6219s\n",
            "Epoch : 21 | accuracy : 89.778% | loss : 165.33798 | time : 4.584s\n",
            "Epoch : 22 | accuracy : 89.987% | loss : 162.01298 | time : 4.5881s\n",
            "Epoch : 23 | accuracy : 89.943% | loss : 164.38121 | time : 4.5915s\n",
            "Epoch : 24 | accuracy : 90.07% | loss : 160.52829 | time : 4.6008s\n",
            "Epoch : 25 | accuracy : 90.045% | loss : 161.10401 | time : 4.5972s\n",
            "Epoch : 26 | accuracy : 90.27% | loss : 157.79982 | time : 4.6964s\n",
            "Epoch : 27 | accuracy : 90.298% | loss : 157.93703 | time : 4.6354s\n",
            "Epoch : 28 | accuracy : 90.438% | loss : 157.74378 | time : 4.591s\n",
            "Epoch : 29 | accuracy : 90.265% | loss : 157.75864 | time : 4.6073s\n",
            "Epoch : 30 | accuracy : 90.112% | loss : 162.69284 | time : 4.5666s\n",
            "Epoch : 31 | accuracy : 90.297% | loss : 157.46518 | time : 4.6547s\n",
            "Epoch : 32 | accuracy : 90.425% | loss : 155.05136 | time : 4.7561s\n",
            "Epoch : 33 | accuracy : 90.667% | loss : 150.93288 | time : 4.6544s\n",
            "Epoch : 34 | accuracy : 90.688% | loss : 149.97943 | time : 4.5983s\n",
            "Epoch : 35 | accuracy : 90.75% | loss : 151.89655 | time : 4.6206s\n",
            "Epoch : 36 | accuracy : 89.622% | loss : 175.06689 | time : 4.6484s\n",
            "Epoch : 37 | accuracy : 90.625% | loss : 154.55342 | time : 4.6214s\n",
            "Epoch : 38 | accuracy : 90.675% | loss : 149.2208 | time : 4.5976s\n",
            "Epoch : 39 | accuracy : 90.765% | loss : 148.31121 | time : 4.5824s\n",
            "Epoch : 40 | accuracy : 90.997% | loss : 145.95477 | time : 4.7421s\n",
            "Epoch : 41 | accuracy : 90.408% | loss : 158.16259 | time : 4.5957s\n",
            "Epoch : 42 | accuracy : 90.642% | loss : 155.34148 | time : 4.5971s\n",
            "Epoch : 43 | accuracy : 90.45% | loss : 155.84169 | time : 4.5819s\n",
            "Epoch : 44 | accuracy : 90.543% | loss : 156.57089 | time : 4.5893s\n",
            "Epoch : 45 | accuracy : 90.928% | loss : 149.69479 | time : 4.7303s\n",
            "Epoch : 46 | accuracy : 90.512% | loss : 155.14366 | time : 4.5662s\n",
            "Epoch : 47 | accuracy : 90.85% | loss : 149.26676 | time : 4.6035s\n",
            "Epoch : 48 | accuracy : 90.99% | loss : 148.80335 | time : 4.8287s\n",
            "Epoch : 49 | accuracy : 90.308% | loss : 162.42583 | time : 4.6101s\n",
            "Epoch : 50 | accuracy : 90.71% | loss : 156.61958 | time : 4.5821s\n"
          ],
          "name": "stdout"
        }
      ]
    },
    {
      "cell_type": "markdown",
      "metadata": {
        "id": "HH1qQviu6noV"
      },
      "source": [
        "Testing the model"
      ]
    },
    {
      "cell_type": "code",
      "metadata": {
        "colab": {
          "base_uri": "https://localhost:8080/"
        },
        "id": "VFBJgVBl06Xs",
        "outputId": "632ec1cf-d3a3-467b-b2a5-0d62f31f187d"
      },
      "source": [
        "test_set_loader = torch.utils.data.DataLoader(test_set,batch_size=100,shuffle=True)\n",
        "correct = 0\n",
        "with torch.no_grad():\n",
        "    for batch in test_set_loader:\n",
        "        images, labels = batch\n",
        "        images = images.to(device)\n",
        "        labels = labels.to(device)\n",
        "        preds = network(images)\n",
        "        correct += get_num_correct_pred(preds,labels)\n",
        "\n",
        "    result = (correct/len(test_set)).item()\n",
        "    print(round(result,4)*100,\"%\")"
      ],
      "execution_count": 47,
      "outputs": [
        {
          "output_type": "stream",
          "text": [
            "88.21 %\n"
          ],
          "name": "stdout"
        }
      ]
    },
    {
      "cell_type": "code",
      "metadata": {
        "id": "lRSb0TFn6Hpb"
      },
      "source": [
        ""
      ],
      "execution_count": null,
      "outputs": []
    }
  ]
}